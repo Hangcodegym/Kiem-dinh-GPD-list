{
 "cells": [
  {
   "cell_type": "markdown",
   "id": "a5256ce2",
   "metadata": {},
   "source": [
    "## Hãy thực hiện các kiểm định sau:\n",
    "\n",
    "#### Trung bình GDP của các quốc gia trên thế giới là 500 tỉ usd/năm\n",
    "\n",
    "#### GDP trung bình ở các quốc gia ở châu Âu cao hơn châu Á không\n",
    "\n",
    "#### GDP trung bình của các quốc gia ở châu Âu và châu Mỹ là bằng nhau\n"
   ]
  },
  {
   "cell_type": "code",
   "execution_count": 10,
   "id": "3597570f",
   "metadata": {},
   "outputs": [
    {
     "data": {
      "text/html": [
       "<div>\n",
       "<style scoped>\n",
       "    .dataframe tbody tr th:only-of-type {\n",
       "        vertical-align: middle;\n",
       "    }\n",
       "\n",
       "    .dataframe tbody tr th {\n",
       "        vertical-align: top;\n",
       "    }\n",
       "\n",
       "    .dataframe thead th {\n",
       "        text-align: right;\n",
       "    }\n",
       "</style>\n",
       "<table border=\"1\" class=\"dataframe\">\n",
       "  <thead>\n",
       "    <tr style=\"text-align: right;\">\n",
       "      <th></th>\n",
       "      <th>Country</th>\n",
       "      <th>Continent</th>\n",
       "      <th>GDP (millions of US$)</th>\n",
       "    </tr>\n",
       "  </thead>\n",
       "  <tbody>\n",
       "    <tr>\n",
       "      <th>0</th>\n",
       "      <td>Afghanistan</td>\n",
       "      <td>Asia</td>\n",
       "      <td>18181</td>\n",
       "    </tr>\n",
       "    <tr>\n",
       "      <th>1</th>\n",
       "      <td>Albania</td>\n",
       "      <td>Europe</td>\n",
       "      <td>12847</td>\n",
       "    </tr>\n",
       "    <tr>\n",
       "      <th>2</th>\n",
       "      <td>Algeria</td>\n",
       "      <td>Africa</td>\n",
       "      <td>190709</td>\n",
       "    </tr>\n",
       "    <tr>\n",
       "      <th>3</th>\n",
       "      <td>Angola</td>\n",
       "      <td>Africa</td>\n",
       "      <td>100948</td>\n",
       "    </tr>\n",
       "    <tr>\n",
       "      <th>4</th>\n",
       "      <td>Argentina</td>\n",
       "      <td>South America</td>\n",
       "      <td>447644</td>\n",
       "    </tr>\n",
       "    <tr>\n",
       "      <th>...</th>\n",
       "      <td>...</td>\n",
       "      <td>...</td>\n",
       "      <td>...</td>\n",
       "    </tr>\n",
       "    <tr>\n",
       "      <th>120</th>\n",
       "      <td>Uzbekistan</td>\n",
       "      <td>Asia</td>\n",
       "      <td>45353</td>\n",
       "    </tr>\n",
       "    <tr>\n",
       "      <th>121</th>\n",
       "      <td>Venezuela</td>\n",
       "      <td>South America</td>\n",
       "      <td>315841</td>\n",
       "    </tr>\n",
       "    <tr>\n",
       "      <th>122</th>\n",
       "      <td>Vietnam</td>\n",
       "      <td>Asia</td>\n",
       "      <td>122722</td>\n",
       "    </tr>\n",
       "    <tr>\n",
       "      <th>123</th>\n",
       "      <td>Yemen</td>\n",
       "      <td>Africa</td>\n",
       "      <td>33675</td>\n",
       "    </tr>\n",
       "    <tr>\n",
       "      <th>124</th>\n",
       "      <td>Zambia</td>\n",
       "      <td>Africa</td>\n",
       "      <td>19206</td>\n",
       "    </tr>\n",
       "  </tbody>\n",
       "</table>\n",
       "<p>125 rows × 3 columns</p>\n",
       "</div>"
      ],
      "text/plain": [
       "          Country      Continent  GDP (millions of US$)\n",
       "0     Afghanistan           Asia                  18181\n",
       "1         Albania         Europe                  12847\n",
       "2         Algeria         Africa                 190709\n",
       "3          Angola         Africa                 100948\n",
       "4       Argentina  South America                 447644\n",
       "..            ...            ...                    ...\n",
       "120    Uzbekistan           Asia                  45353\n",
       "121     Venezuela  South America                 315841\n",
       "122       Vietnam           Asia                 122722\n",
       "123         Yemen         Africa                  33675\n",
       "124        Zambia         Africa                  19206\n",
       "\n",
       "[125 rows x 3 columns]"
      ]
     },
     "execution_count": 10,
     "metadata": {},
     "output_type": "execute_result"
    }
   ],
   "source": [
    "import pandas as pd\n",
    "from matplotlib import pyplot as plt\n",
    "import seaborn as sns\n",
    "dat1=pd.read_csv('GDPlist.csv', encoding='ISO-8859-1')\n",
    "import scipy.stats as stats\n",
    "dat1"
   ]
  },
  {
   "cell_type": "code",
   "execution_count": 5,
   "id": "0e6b8dc9",
   "metadata": {},
   "outputs": [
    {
     "name": "stdout",
     "output_type": "stream",
     "text": [
      "<class 'pandas.core.frame.DataFrame'>\n",
      "RangeIndex: 125 entries, 0 to 124\n",
      "Data columns (total 3 columns):\n",
      " #   Column                 Non-Null Count  Dtype \n",
      "---  ------                 --------------  ----- \n",
      " 0   Country                125 non-null    object\n",
      " 1   Continent              125 non-null    object\n",
      " 2   GDP (millions of US$)  125 non-null    int64 \n",
      "dtypes: int64(1), object(2)\n",
      "memory usage: 3.1+ KB\n"
     ]
    }
   ],
   "source": [
    "dat1.info()"
   ]
  },
  {
   "cell_type": "code",
   "execution_count": 7,
   "id": "698d02dd",
   "metadata": {},
   "outputs": [
    {
     "data": {
      "text/plain": [
       "array(['\\xa0Afghanistan', '\\xa0Albania', '\\xa0Algeria', '\\xa0Angola',\n",
       "       '\\xa0Argentina', '\\xa0Australia', '\\xa0Austria', '\\xa0Azerbaijan',\n",
       "       '\\xa0Bahrain', '\\xa0Bangladesh', '\\xa0Belarus', '\\xa0Belgium',\n",
       "       '\\xa0Bolivia', '\\xa0Bosnia and Herzegovina', '\\xa0Botswana',\n",
       "       '\\xa0Brazil', '\\xa0Brunei', '\\xa0Bulgaria', '\\xa0Burma',\n",
       "       '\\xa0Cambodia', '\\xa0Cameroon', '\\xa0Canada', '\\xa0Chile',\n",
       "       '\\xa0China', '\\xa0Colombia',\n",
       "       '\\xa0Congo, Democratic Republic of the',\n",
       "       '\\xa0Congo, Republic of the', '\\xa0Costa Rica',\n",
       "       \"\\xa0Côte d'Ivoire\", '\\xa0Croatia', '\\xa0Cyprus',\n",
       "       '\\xa0Czech Republic', '\\xa0Denmark', '\\xa0Dominican Republic',\n",
       "       '\\xa0Ecuador', '\\xa0Egypt', '\\xa0El Salvador',\n",
       "       '\\xa0Equatorial Guinea', '\\xa0Estonia', '\\xa0Ethiopia',\n",
       "       '\\xa0Finland', '\\xa0France', '\\xa0Gabon', '\\xa0Georgia',\n",
       "       '\\xa0Germany', '\\xa0Ghana', '\\xa0Greece', '\\xa0Guatemala',\n",
       "       '\\xa0Honduras', '\\xa0Hong Kong', '\\xa0Hungary', '\\xa0Iceland',\n",
       "       '\\xa0India', '\\xa0Indonesia', '\\xa0Iran', '\\xa0Iraq',\n",
       "       '\\xa0Ireland', '\\xa0Israel', '\\xa0Italy', '\\xa0Jamaica',\n",
       "       '\\xa0Japan', '\\xa0Jordan', '\\xa0Kazakhstan', '\\xa0Kenya',\n",
       "       '\\xa0Kuwait', '\\xa0Latvia', '\\xa0Lebanon', '\\xa0Libya',\n",
       "       '\\xa0Lithuania', '\\xa0Luxembourg', '\\xa0Malaysia', '\\xa0Mali',\n",
       "       '\\xa0Mauritius', '\\xa0Mexico', '\\xa0Morocco', '\\xa0Mozambique',\n",
       "       '\\xa0Namibia', '\\xa0Nepal', '\\xa0Netherlands', '\\xa0New Zealand',\n",
       "       '\\xa0Nigeria', '\\xa0Norway', '\\xa0Oman', '\\xa0Pakistan',\n",
       "       '\\xa0Panama', '\\xa0Papua New Guinea', '\\xa0Paraguay', '\\xa0Peru',\n",
       "       '\\xa0Philippines', '\\xa0Poland', '\\xa0Portugal', '\\xa0Qatar',\n",
       "       '\\xa0Romania', '\\xa0Russia', '\\xa0Saudi Arabia', '\\xa0Senegal',\n",
       "       '\\xa0Serbia', '\\xa0Singapore', '\\xa0Slovakia', '\\xa0Slovenia',\n",
       "       '\\xa0South Africa', '\\xa0South Korea', '\\xa0Spain',\n",
       "       '\\xa0Sri Lanka', '\\xa0Sudan + \\xa0South Sudan', '\\xa0Sweden',\n",
       "       '\\xa0Switzerland', '\\xa0Taiwan', '\\xa0Tanzania', '\\xa0Thailand',\n",
       "       '\\xa0Trinidad and Tobago', '\\xa0Tunisia', '\\xa0Turkey',\n",
       "       '\\xa0Turkmenistan', '\\xa0Uganda', '\\xa0Ukraine',\n",
       "       '\\xa0United Arab Emirates', '\\xa0United Kingdom',\n",
       "       '\\xa0United States', '\\xa0Uruguay', '\\xa0Uzbekistan',\n",
       "       '\\xa0Venezuela', '\\xa0Vietnam', '\\xa0Yemen', '\\xa0Zambia'],\n",
       "      dtype=object)"
      ]
     },
     "execution_count": 7,
     "metadata": {},
     "output_type": "execute_result"
    }
   ],
   "source": [
    "dat1['Country'].unique()"
   ]
  },
  {
   "cell_type": "code",
   "execution_count": 8,
   "id": "d761ecec",
   "metadata": {
    "scrolled": true
   },
   "outputs": [
    {
     "data": {
      "text/plain": [
       "array(['Asia', 'Europe', 'Africa', 'South America', 'Oceania',\n",
       "       'North America'], dtype=object)"
      ]
     },
     "execution_count": 8,
     "metadata": {},
     "output_type": "execute_result"
    }
   ],
   "source": [
    "dat1['Continent'].unique()"
   ]
  },
  {
   "cell_type": "markdown",
   "id": "a2cc22e9",
   "metadata": {},
   "source": [
    "### 1. H0: Trung bình GDP của các quốc gia trên thế giới là 500 tỉ usd/năm"
   ]
  },
  {
   "cell_type": "code",
   "execution_count": 7,
   "id": "137ef452",
   "metadata": {},
   "outputs": [
    {
     "data": {
      "text/plain": [
       "Ttest_1sampResult(statistic=0.3757438669518338, pvalue=0.7077493494055246)"
      ]
     },
     "execution_count": 7,
     "metadata": {},
     "output_type": "execute_result"
    }
   ],
   "source": [
    "stats.ttest_1samp(dat1['GDP (millions of US$)'], popmean=500000)"
   ]
  },
  {
   "cell_type": "code",
   "execution_count": null,
   "id": "562f2804",
   "metadata": {},
   "outputs": [],
   "source": [
    "pvalue=71%==> H0 tương đối chính xác với xác suất chính xác tối thiểu là 70%"
   ]
  },
  {
   "cell_type": "markdown",
   "id": "141b8811",
   "metadata": {},
   "source": [
    "### 2.  H0:  GDP trung bình ở các quốc gia ở châu Âu cao hơn châu Á không"
   ]
  },
  {
   "cell_type": "code",
   "execution_count": 11,
   "id": "cf2764c3",
   "metadata": {},
   "outputs": [],
   "source": [
    "euro = dat1.query(\"Continent == 'Europe'\")['GDP (millions of US$)']\n",
    "asia = dat1.query(\"Continent == 'Asia'\")['GDP (millions of US$)']"
   ]
  },
  {
   "cell_type": "code",
   "execution_count": 13,
   "id": "2ee1f323",
   "metadata": {
    "scrolled": true
   },
   "outputs": [
    {
     "data": {
      "image/png": "[encoded data removed]",
      "text/plain": [
       "<Figure size 432x288 with 1 Axes>"
      ]
     },
     "metadata": {
      "needs_background": "light"
     },
     "output_type": "display_data"
    }
   ],
   "source": [
    "sns.kdeplot(euro)\n",
    "sns.kdeplot(asia);"
   ]
  },
  {
   "cell_type": "code",
   "execution_count": 14,
   "id": "56b21507",
   "metadata": {},
   "outputs": [
    {
     "name": "stdout",
     "output_type": "stream",
     "text": [
      "-0.5586877419842815 0.7109336599036771\n"
     ]
    }
   ],
   "source": [
    "tstatic, pvalue = stats.ttest_ind(euro, asia, alternative='greater')\n",
    "print(tstatic, pvalue)"
   ]
  },
  {
   "cell_type": "markdown",
   "id": "e74aad8d",
   "metadata": {},
   "source": [
    "kết luận: các nước châu âu giàu hơn châu á với xác suất chính xác nhỏ nhất là 71%"
   ]
  },
  {
   "cell_type": "markdown",
   "id": "94ef2d07",
   "metadata": {},
   "source": [
    "###  3. GDP trung bình của các quốc gia ở châu Âu và châu Mỹ là bằng nhau"
   ]
  },
  {
   "cell_type": "code",
   "execution_count": 15,
   "id": "95db6cac",
   "metadata": {},
   "outputs": [],
   "source": [
    "a = ['South America', 'North America']\n",
    "america = dat1.query(\"Continent in @a\")['GDP (millions of US$)']"
   ]
  },
  {
   "cell_type": "code",
   "execution_count": 16,
   "id": "cad35340",
   "metadata": {},
   "outputs": [
    {
     "data": {
      "image/png": "[encoded data removed]",
      "text/plain": [
       "<Figure size 432x288 with 1 Axes>"
      ]
     },
     "metadata": {
      "needs_background": "light"
     },
     "output_type": "display_data"
    }
   ],
   "source": [
    "sns.kdeplot(euro)\n",
    "sns.kdeplot(america);"
   ]
  },
  {
   "cell_type": "code",
   "execution_count": 17,
   "id": "2b91cbc8",
   "metadata": {},
   "outputs": [
    {
     "data": {
      "text/plain": [
       "Ttest_indResult(statistic=-1.0372877375171978, pvalue=0.3041408163690613)"
      ]
     },
     "execution_count": 17,
     "metadata": {},
     "output_type": "execute_result"
    }
   ],
   "source": [
    "stats.ttest_ind(euro, america)"
   ]
  },
  {
   "cell_type": "code",
   "execution_count": null,
   "id": "90353dd7",
   "metadata": {},
   "outputs": [],
   "source": [
    "Kết luận: Không thể kết luận châu và châu Mỹ có GDP bằng nhau"
   ]
  }
 ],
 "metadata": {
  "kernelspec": {
   "display_name": "Python 3 (ipykernel)",
   "language": "python",
   "name": "python3"
  },
  "language_info": {
   "codemirror_mode": {
    "name": "ipython",
    "version": 3
   },
   "file_extension": ".py",
   "mimetype": "text/x-python",
   "name": "python",
   "nbconvert_exporter": "python",
   "pygments_lexer": "ipython3",
   "version": "3.9.12"
  }
 },
 "nbformat": 4,
 "nbformat_minor": 5
}
